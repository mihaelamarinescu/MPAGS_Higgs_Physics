{
 "cells": [
  {
   "cell_type": "markdown",
   "metadata": {},
   "source": [
    "# Higgs Physics Assignment\n",
    "\n",
    "## Problem 2a\n",
    "\n",
    "The likelihood function for the experiment is given by\n",
    "\n",
    "$$ \\mathcal{L} = \\displaystyle \\prod_{i=1}^{2} \\frac{\\lambda_i^{N_i}e^{-\\lambda_i}}{N_i!} $$\n",
    "\n",
    "where $\\lambda_i$ is the expected number of events in a signal region, given by\n",
    "\n",
    "$$ \\lambda_i = \\mu_{VBF}\\cdot n_{VBF} + \\mu_{ggf}\\cdot n_{ggf} + n_b $$\n",
    "\n",
    "and $N_i$ is the observed number of events in a signal region. \n",
    "\n"
   ]
  },
  {
   "cell_type": "code",
   "execution_count": null,
   "metadata": {},
   "outputs": [],
   "source": [
    "from iminuit import Minuit\n",
    "import numpy as np\n",
    "import math\n",
    "from matplotlib import pyplot as plt"
   ]
  },
  {
   "cell_type": "code",
   "execution_count": 41,
   "metadata": {},
   "outputs": [],
   "source": [
    "def poisson(mu, k):\n",
    "    \n",
    "    return (mu**(k))*np.exp(-1*mu)/(math.factorial(k))\n",
    "\n",
    "def nll(par, mu_vbf, mu_ggf): #n_vbf1, n_ggf1, n_b1, N1, n_vbf2, n_ggf2, n_b2, N2,\n",
    "    p1 = poisson(par[0]*mu_vbf + par[1]*mu_ggf + par[2], par[3])\n",
    "    p2 = poisson(par[4]*mu_vbf + par[5]*mu_ggf + par[6], par[7])\n",
    "    return -1*np.log(p1 +p2)\n",
    "\n",
    "def fcn(mu_vbf, mu_ggf):\n",
    "    f = nll(par, mu_vbf, mu_ggf)\n",
    "    return f\n"
   ]
  },
  {
   "cell_type": "code",
   "execution_count": 50,
   "metadata": {},
   "outputs": [
    {
     "data": {
      "text/html": [
       "<table>\n",
       "    <tr>\n",
       "        <td colspan=\"2\" style=\"text-align:left\" title=\"Minimum value of function\"> FCN = 1.511 </td>\n",
       "        <td colspan=\"3\" style=\"text-align:center\" title=\"No. of function evaluations in last call and total number\"> Nfcn = 35 </td>\n",
       "    </tr>\n",
       "    <tr>\n",
       "        <td colspan=\"2\" style=\"text-align:left\" title=\"Estimated distance to minimum and goal\"> EDM = 1.3e-05 (Goal: 0.1) </td>\n",
       "        <td colspan=\"3\" style=\"text-align:center\" title=\"No. of gradient evaluations in last call and total number\">  </td>\n",
       "    </tr>\n",
       "    <tr>\n",
       "        <td style=\"text-align:center;background-color:#92CCA6;color:black\"> Valid Minimum </td>\n",
       "        <td style=\"text-align:center;background-color:#92CCA6;color:black\"> Valid Parameters </td>\n",
       "        <td colspan=\"3\" style=\"text-align:center;background-color:#92CCA6;color:black\"> No Parameters at limit </td>\n",
       "    </tr>\n",
       "    <tr>\n",
       "        <td colspan=\"2\" style=\"text-align:center;background-color:#92CCA6;color:black\"> Below EDM threshold (goal x 10) </td>\n",
       "        <td colspan=\"3\" style=\"text-align:center;background-color:#92CCA6;color:black\"> Below call limit </td>\n",
       "    </tr>\n",
       "    <tr>\n",
       "        <td style=\"text-align:center;background-color:#92CCA6;color:black\"> Covariance </td>\n",
       "        <td style=\"text-align:center;background-color:#92CCA6;color:black\"> Hesse ok </td>\n",
       "        <td style=\"text-align:center;background-color:#92CCA6;color:black\" title=\"Is covariance matrix accurate?\"> Accurate </td>\n",
       "        <td style=\"text-align:center;background-color:#92CCA6;color:black\" title=\"Is covariance matrix positive definite?\"> Pos. def. </td>\n",
       "        <td style=\"text-align:center;background-color:#92CCA6;color:black\" title=\"Was positive definiteness enforced by Minuit?\"> Not forced </td>\n",
       "    </tr>\n",
       "</table><table>\n",
       "    <tr>\n",
       "        <td></td>\n",
       "        <th title=\"Variable name\"> Name </th>\n",
       "        <th title=\"Value of parameter\"> Value </th>\n",
       "        <th title=\"Hesse error\"> Hesse Error </th>\n",
       "        <th title=\"Minos lower error\"> Minos Error- </th>\n",
       "        <th title=\"Minos upper error\"> Minos Error+ </th>\n",
       "        <th title=\"Lower limit of the parameter\"> Limit- </th>\n",
       "        <th title=\"Upper limit of the parameter\"> Limit+ </th>\n",
       "        <th title=\"Is the parameter fixed in the fit\"> Fixed </th>\n",
       "    </tr>\n",
       "    <tr>\n",
       "        <th> 0 </th>\n",
       "        <td> mu_vbf </td>\n",
       "        <td> 1.1 </td>\n",
       "        <td> 0.9 </td>\n",
       "        <td>  </td>\n",
       "        <td>  </td>\n",
       "        <td> -10 </td>\n",
       "        <td> 10 </td>\n",
       "        <td>  </td>\n",
       "    </tr>\n",
       "    <tr>\n",
       "        <th> 1 </th>\n",
       "        <td> mu_ggf </td>\n",
       "        <td> 1.1 </td>\n",
       "        <td> 0.5 </td>\n",
       "        <td>  </td>\n",
       "        <td>  </td>\n",
       "        <td> -10 </td>\n",
       "        <td> 10 </td>\n",
       "        <td>  </td>\n",
       "    </tr>\n",
       "</table><table>\n",
       "    <tr>\n",
       "        <td></td>\n",
       "        <th> mu_vbf </th>\n",
       "        <th> mu_ggf </th>\n",
       "    </tr>\n",
       "    <tr>\n",
       "        <th> mu_vbf </th>\n",
       "        <td> 0.824 </td>\n",
       "        <td style=\"background-color:rgb(202,202,250);color:black\"> -0.173 <strong>(-0.371)</strong> </td>\n",
       "    </tr>\n",
       "    <tr>\n",
       "        <th> mu_ggf </th>\n",
       "        <td style=\"background-color:rgb(202,202,250);color:black\"> -0.173 <strong>(-0.371)</strong> </td>\n",
       "        <td> 0.265 </td>\n",
       "    </tr>\n",
       "</table>"
      ],
      "text/plain": [
       "┌──────────────────────────────────┬──────────────────────────────────────┐\n",
       "│ FCN = 1.511                      │              Nfcn = 35               │\n",
       "│ EDM = 1.3e-05 (Goal: 0.1)        │                                      │\n",
       "├───────────────┬──────────────────┼──────────────────────────────────────┤\n",
       "│ Valid Minimum │ Valid Parameters │        No Parameters at limit        │\n",
       "├───────────────┴──────────────────┼──────────────────────────────────────┤\n",
       "│ Below EDM threshold (goal x 10)  │           Below call limit           │\n",
       "├───────────────┬──────────────────┼───────────┬─────────────┬────────────┤\n",
       "│  Covariance   │     Hesse ok     │ Accurate  │  Pos. def.  │ Not forced │\n",
       "└───────────────┴──────────────────┴───────────┴─────────────┴────────────┘\n",
       "┌───┬────────┬───────────┬───────────┬────────────┬────────────┬─────────┬─────────┬───────┐\n",
       "│   │ Name   │   Value   │ Hesse Err │ Minos Err- │ Minos Err+ │ Limit-  │ Limit+  │ Fixed │\n",
       "├───┼────────┼───────────┼───────────┼────────────┼────────────┼─────────┼─────────┼───────┤\n",
       "│ 0 │ mu_vbf │    1.1    │    0.9    │            │            │   -10   │   10    │       │\n",
       "│ 1 │ mu_ggf │    1.1    │    0.5    │            │            │   -10   │   10    │       │\n",
       "└───┴────────┴───────────┴───────────┴────────────┴────────────┴─────────┴─────────┴───────┘\n",
       "┌────────┬───────────────┐\n",
       "│        │ mu_vbf mu_ggf │\n",
       "├────────┼───────────────┤\n",
       "│ mu_vbf │  0.824 -0.173 │\n",
       "│ mu_ggf │ -0.173  0.265 │\n",
       "└────────┴───────────────┘"
      ]
     },
     "execution_count": 50,
     "metadata": {},
     "output_type": "execute_result"
    }
   ],
   "source": [
    "par = [0.9, 16.2, 5.2, 24, 4.2, 2.1, 0.9, 8]\n",
    "\n",
    "m = Minuit(fcn, mu_vbf = 1.0, mu_ggf = 1.0)\n",
    "m.limits = [(-10.0, 10.0), (-10.0, 10.0)]\n",
    "#m.fixed[\"mu_vbf\"] = True\n",
    "m.errordef = Minuit.LIKELIHOOD\n",
    "m.migrad()\n",
    "m.hesse()"
   ]
  },
  {
   "cell_type": "code",
   "execution_count": 51,
   "metadata": {},
   "outputs": [
    {
     "data": {
      "text/plain": [
       "<ValueView mu_vbf=1.1428187103661536 mu_ggf=1.0944686062872684>"
      ]
     },
     "execution_count": 51,
     "metadata": {},
     "output_type": "execute_result"
    }
   ],
   "source": [
    "m.values"
   ]
  },
  {
   "cell_type": "code",
   "execution_count": 52,
   "metadata": {},
   "outputs": [
    {
     "data": {
      "text/plain": [
       "<ErrorView mu_vbf=0.9064430934979981 mu_ggf=0.5141713321926638>"
      ]
     },
     "execution_count": 52,
     "metadata": {},
     "output_type": "execute_result"
    }
   ],
   "source": [
    "m.errors"
   ]
  },
  {
   "cell_type": "code",
   "execution_count": 44,
   "metadata": {},
   "outputs": [
    {
     "data": {
      "text/plain": [
       "(array([-0.66995713, -0.6333354 , -0.59671366, -0.56009193, -0.52347019,\n",
       "        -0.48684846, -0.45022673, -0.41360499, -0.37698326, -0.34036152,\n",
       "        -0.30373979, -0.26711806, -0.23049632, -0.19387459, -0.15725285,\n",
       "        -0.12063112, -0.08400938, -0.04738765, -0.01076592,  0.02585582,\n",
       "         0.06247755,  0.09909929,  0.13572102,  0.17234275,  0.20896449,\n",
       "         0.24558622,  0.28220796,  0.31882969,  0.35545143,  0.39207316,\n",
       "         0.42869489,  0.46531663,  0.50193836,  0.5385601 ,  0.57518183,\n",
       "         0.61180356,  0.6484253 ,  0.68504703,  0.72166877,  0.7582905 ,\n",
       "         0.79491224,  0.83153397,  0.8681557 ,  0.90477744,  0.94139917,\n",
       "         0.97802091,  1.01464264,  1.05126437,  1.08788611,  1.12450784,\n",
       "         1.16112958,  1.19775131,  1.23437305,  1.27099478,  1.30761651,\n",
       "         1.34423825,  1.38085998,  1.41748172,  1.45410345,  1.49072518,\n",
       "         1.52734692,  1.56396865,  1.60059039,  1.63721212,  1.67383386,\n",
       "         1.71045559,  1.74707732,  1.78369906,  1.82032079,  1.85694253,\n",
       "         1.89356426,  1.93018599,  1.96680773,  2.00342946,  2.0400512 ,\n",
       "         2.07667293,  2.11329467,  2.1499164 ,  2.18653813,  2.22315987,\n",
       "         2.2597816 ,  2.29640334,  2.33302507,  2.3696468 ,  2.40626854,\n",
       "         2.44289027,  2.47951201,  2.51613374,  2.55275548,  2.58937721,\n",
       "         2.62599894,  2.66262068,  2.69924241,  2.73586415,  2.77248588,\n",
       "         2.80910762,  2.84572935,  2.88235108,  2.91897282,  2.95559455]),\n",
       " array([2.57257607, 2.57013193, 2.56773398, 2.56536741, 2.56299857,\n",
       "        2.56056381, 2.55795809, 2.55502518, 2.55155132, 2.54726381,\n",
       "        2.5418356 , 2.53489622, 2.52604903, 2.51489372, 2.50105243,\n",
       "        2.48419723, 2.4640761 , 2.44053443, 2.41352965, 2.38313716,\n",
       "        2.3495472 , 2.31305319, 2.27403364, 2.23292979, 2.19022187,\n",
       "        2.14640627, 2.10197529, 2.05740076, 2.01312173, 1.96953631,\n",
       "        1.92699706, 1.88580932, 1.8462319 , 1.80847922, 1.77272458,\n",
       "        1.73910398, 1.70772012, 1.67864651, 1.65193121, 1.62760047,\n",
       "        1.60566194, 1.5861075 , 1.56891586, 1.55405469, 1.54148253,\n",
       "        1.53115041, 1.5230032 , 1.51698078, 1.51301896, 1.51105034,\n",
       "        1.51100496, 1.5128108 , 1.51639433, 1.52168079, 1.52859454,\n",
       "        1.53705931, 1.54699838, 1.55833477, 1.57099138, 1.58489107,\n",
       "        1.5999568 , 1.61611172, 1.63327922, 1.65138305, 1.67034738,\n",
       "        1.69009689, 1.71055687, 1.73165328, 1.75331293, 1.77546352,\n",
       "        1.79803381, 1.82095377, 1.84415466, 1.86756928, 1.89113206,\n",
       "        1.91477929, 1.93844925, 1.96208241, 1.98562163, 2.00901233,\n",
       "        2.03220262, 2.05514355, 2.07778918, 2.10009677, 2.12202689,\n",
       "        2.14354351, 2.16461408, 2.18520962, 2.20530467, 2.22487739,\n",
       "        2.24390944, 2.262386  , 2.28029563, 2.29763022, 2.31438481,\n",
       "        2.33055747, 2.34614913, 2.36116339, 2.37560631, 2.38948622]))"
      ]
     },
     "execution_count": 44,
     "metadata": {},
     "output_type": "execute_result"
    },
    {
     "data": {
      "image/png": "[encoded data removed]",
      "text/plain": [
       "<Figure size 432x288 with 1 Axes>"
      ]
     },
     "metadata": {
      "needs_background": "light"
     },
     "output_type": "display_data"
    }
   ],
   "source": [
    "m.draw_profile(\"mu_vbf\")"
   ]
  },
  {
   "cell_type": "code",
   "execution_count": 37,
   "metadata": {},
   "outputs": [
    {
     "data": {
      "text/plain": [
       "(array([0.06618856, 0.0869619 , 0.10773523, 0.12850856, 0.1492819 ,\n",
       "        0.17005523, 0.19082857, 0.2116019 , 0.23237524, 0.25314857,\n",
       "        0.2739219 , 0.29469524, 0.31546857, 0.33624191, 0.35701524,\n",
       "        0.37778858, 0.39856191, 0.41933524, 0.44010858, 0.46088191,\n",
       "        0.48165525, 0.50242858, 0.52320191, 0.54397525, 0.56474858,\n",
       "        0.58552192, 0.60629525, 0.62706859, 0.64784192, 0.66861525,\n",
       "        0.68938859, 0.71016192, 0.73093526, 0.75170859, 0.77248193,\n",
       "        0.79325526, 0.81402859, 0.83480193, 0.85557526, 0.8763486 ,\n",
       "        0.89712193, 0.91789527, 0.9386686 , 0.95944193, 0.98021527,\n",
       "        1.0009886 , 1.02176194, 1.04253527, 1.0633086 , 1.08408194,\n",
       "        1.10485527, 1.12562861, 1.14640194, 1.16717528, 1.18794861,\n",
       "        1.20872194, 1.22949528, 1.25026861, 1.27104195, 1.29181528,\n",
       "        1.31258862, 1.33336195, 1.35413528, 1.37490862, 1.39568195,\n",
       "        1.41645529, 1.43722862, 1.45800196, 1.47877529, 1.49954862,\n",
       "        1.52032196, 1.54109529, 1.56186863, 1.58264196, 1.60341529,\n",
       "        1.62418863, 1.64496196, 1.6657353 , 1.68650863, 1.70728197,\n",
       "        1.7280553 , 1.74882863, 1.76960197, 1.7903753 , 1.81114864,\n",
       "        1.83192197, 1.85269531, 1.87346864, 1.89424197, 1.91501531,\n",
       "        1.93578864, 1.95656198, 1.97733531, 1.99810865, 2.01888198,\n",
       "        2.03965531, 2.06042865, 2.08120198, 2.10197532, 2.12274865]),\n",
       " array([2.32718188, 2.31125093, 2.29575435, 2.28068161, 2.26602001,\n",
       "        2.25175376, 2.23786277, 2.22432137, 2.21109675, 2.19814746,\n",
       "        2.18542183, 2.17285662, 2.16037607, 2.14789137, 2.13530091,\n",
       "        2.12249133, 2.10933963, 2.09571629, 2.08148939, 2.06652976,\n",
       "        2.05071673, 2.03394441, 2.01612784, 1.99720882, 1.97716082,\n",
       "        1.95599253, 1.93374992, 1.91051641, 1.88641125, 1.86158626,\n",
       "        1.83622113, 1.81051768, 1.78469351, 1.75897545, 1.73359319,\n",
       "        1.7087734 , 1.68473456, 1.66168264, 1.63980768, 1.61928128,\n",
       "        1.60025487, 1.58285874, 1.56720168, 1.55337115, 1.54143377,\n",
       "        1.53143618, 1.52340608, 1.51735335, 1.51327136, 1.51113819,\n",
       "        1.51091794, 1.51256202, 1.51601033, 1.52119251, 1.52802913,\n",
       "        1.53643274, 1.54630907, 1.55755804, 1.57007487, 1.58375108,\n",
       "        1.59847557, 1.61413561, 1.63061787, 1.64780942, 1.66559869,\n",
       "        1.68387647, 1.70253678, 1.72147776, 1.74060249, 1.75981973,\n",
       "        1.77904456, 1.79819895, 1.8172122 , 1.83602126, 1.85457097,\n",
       "        1.87281415, 1.89071151, 1.90823157, 1.92535035, 1.94205103,\n",
       "        1.95832353, 1.97416394, 1.989574  , 2.0045605 , 2.01913462,\n",
       "        2.03331134, 2.04710878, 2.06054764, 2.07365062, 2.08644186,\n",
       "        2.09894651, 2.11119022, 2.12319883, 2.13499798, 2.14661286,\n",
       "        2.15806795, 2.16938684, 2.18059207, 2.19170505, 2.20274594]))"
      ]
     },
     "execution_count": 37,
     "metadata": {},
     "output_type": "execute_result"
    },
    {
     "data": {
      "image/png": "[encoded data removed]",
      "text/plain": [
       "<Figure size 432x288 with 1 Axes>"
      ]
     },
     "metadata": {
      "needs_background": "light"
     },
     "output_type": "display_data"
    }
   ],
   "source": [
    "m.draw_profile(\"mu_ggf\")"
   ]
  },
  {
   "cell_type": "code",
   "execution_count": 53,
   "metadata": {},
   "outputs": [
    {
     "data": {
      "text/html": [
       "<table>\n",
       "    <tr>\n",
       "        <td colspan=\"2\" style=\"text-align:left\" title=\"Minimum value of function\"> FCN = 1.524 </td>\n",
       "        <td colspan=\"3\" style=\"text-align:center\" title=\"No. of function evaluations in last call and total number\"> Nfcn = 18 </td>\n",
       "    </tr>\n",
       "    <tr>\n",
       "        <td colspan=\"2\" style=\"text-align:left\" title=\"Estimated distance to minimum and goal\"> EDM = 3.87e-05 (Goal: 0.1) </td>\n",
       "        <td colspan=\"3\" style=\"text-align:center\" title=\"No. of gradient evaluations in last call and total number\">  </td>\n",
       "    </tr>\n",
       "    <tr>\n",
       "        <td style=\"text-align:center;background-color:#92CCA6;color:black\"> Valid Minimum </td>\n",
       "        <td style=\"text-align:center;background-color:#92CCA6;color:black\"> Valid Parameters </td>\n",
       "        <td colspan=\"3\" style=\"text-align:center;background-color:#92CCA6;color:black\"> No Parameters at limit </td>\n",
       "    </tr>\n",
       "    <tr>\n",
       "        <td colspan=\"2\" style=\"text-align:center;background-color:#92CCA6;color:black\"> Below EDM threshold (goal x 10) </td>\n",
       "        <td colspan=\"3\" style=\"text-align:center;background-color:#92CCA6;color:black\"> Below call limit </td>\n",
       "    </tr>\n",
       "    <tr>\n",
       "        <td style=\"text-align:center;background-color:#92CCA6;color:black\"> Covariance </td>\n",
       "        <td style=\"text-align:center;background-color:#92CCA6;color:black\"> Hesse ok </td>\n",
       "        <td style=\"text-align:center;background-color:#92CCA6;color:black\" title=\"Is covariance matrix accurate?\"> Accurate </td>\n",
       "        <td style=\"text-align:center;background-color:#92CCA6;color:black\" title=\"Is covariance matrix positive definite?\"> Pos. def. </td>\n",
       "        <td style=\"text-align:center;background-color:#92CCA6;color:black\" title=\"Was positive definiteness enforced by Minuit?\"> Not forced </td>\n",
       "    </tr>\n",
       "</table><table>\n",
       "    <tr>\n",
       "        <td></td>\n",
       "        <th title=\"Variable name\"> Name </th>\n",
       "        <th title=\"Value of parameter\"> Value </th>\n",
       "        <th title=\"Hesse error\"> Hesse Error </th>\n",
       "        <th title=\"Minos lower error\"> Minos Error- </th>\n",
       "        <th title=\"Minos upper error\"> Minos Error+ </th>\n",
       "        <th title=\"Lower limit of the parameter\"> Limit- </th>\n",
       "        <th title=\"Upper limit of the parameter\"> Limit+ </th>\n",
       "        <th title=\"Is the parameter fixed in the fit\"> Fixed </th>\n",
       "    </tr>\n",
       "    <tr>\n",
       "        <th> 0 </th>\n",
       "        <td> mu_vbf </td>\n",
       "        <td> 1.00 </td>\n",
       "        <td> 0.01 </td>\n",
       "        <td>  </td>\n",
       "        <td>  </td>\n",
       "        <td> -10 </td>\n",
       "        <td> 10 </td>\n",
       "        <td> yes </td>\n",
       "    </tr>\n",
       "    <tr>\n",
       "        <th> 1 </th>\n",
       "        <td> mu_ggf </td>\n",
       "        <td> 1.1 </td>\n",
       "        <td> 0.5 </td>\n",
       "        <td>  </td>\n",
       "        <td>  </td>\n",
       "        <td> -10 </td>\n",
       "        <td> 10 </td>\n",
       "        <td>  </td>\n",
       "    </tr>\n",
       "</table><table>\n",
       "    <tr>\n",
       "        <td></td>\n",
       "        <th> mu_vbf </th>\n",
       "        <th> mu_ggf </th>\n",
       "    </tr>\n",
       "    <tr>\n",
       "        <th> mu_vbf </th>\n",
       "        <td> 0.000 </td>\n",
       "        <td style=\"background-color:rgb(250,250,250);color:black\"> 0.000 </td>\n",
       "    </tr>\n",
       "    <tr>\n",
       "        <th> mu_ggf </th>\n",
       "        <td style=\"background-color:rgb(250,250,250);color:black\"> 0.000 </td>\n",
       "        <td> 0.231 </td>\n",
       "    </tr>\n",
       "</table>"
      ],
      "text/plain": [
       "┌──────────────────────────────────┬──────────────────────────────────────┐\n",
       "│ FCN = 1.524                      │              Nfcn = 18               │\n",
       "│ EDM = 3.87e-05 (Goal: 0.1)       │                                      │\n",
       "├───────────────┬──────────────────┼──────────────────────────────────────┤\n",
       "│ Valid Minimum │ Valid Parameters │        No Parameters at limit        │\n",
       "├───────────────┴──────────────────┼──────────────────────────────────────┤\n",
       "│ Below EDM threshold (goal x 10)  │           Below call limit           │\n",
       "├───────────────┬──────────────────┼───────────┬─────────────┬────────────┤\n",
       "│  Covariance   │     Hesse ok     │ Accurate  │  Pos. def.  │ Not forced │\n",
       "└───────────────┴──────────────────┴───────────┴─────────────┴────────────┘\n",
       "┌───┬────────┬───────────┬───────────┬────────────┬────────────┬─────────┬─────────┬───────┐\n",
       "│   │ Name   │   Value   │ Hesse Err │ Minos Err- │ Minos Err+ │ Limit-  │ Limit+  │ Fixed │\n",
       "├───┼────────┼───────────┼───────────┼────────────┼────────────┼─────────┼─────────┼───────┤\n",
       "│ 0 │ mu_vbf │   1.00    │   0.01    │            │            │   -10   │   10    │  yes  │\n",
       "│ 1 │ mu_ggf │    1.1    │    0.5    │            │            │   -10   │   10    │       │\n",
       "└───┴────────┴───────────┴───────────┴────────────┴────────────┴─────────┴─────────┴───────┘\n",
       "┌────────┬───────────────┐\n",
       "│        │ mu_vbf mu_ggf │\n",
       "├────────┼───────────────┤\n",
       "│ mu_vbf │  0.000  0.000 │\n",
       "│ mu_ggf │  0.000  0.231 │\n",
       "└────────┴───────────────┘"
      ]
     },
     "execution_count": 53,
     "metadata": {},
     "output_type": "execute_result"
    }
   ],
   "source": [
    "par = [0.9, 16.2, 5.2, 24, 4.2, 2.1, 0.9, 8]\n",
    "\n",
    "m = Minuit(fcn, mu_vbf = 1.0, mu_ggf = 1.0)\n",
    "m.limits = [(-10.0, 10.0), (-10.0, 10.0)]\n",
    "m.fixed[\"mu_vbf\"] = True\n",
    "m.errordef = Minuit.LIKELIHOOD\n",
    "m.migrad()\n",
    "m.hesse()"
   ]
  },
  {
   "cell_type": "code",
   "execution_count": 55,
   "metadata": {},
   "outputs": [
    {
     "data": {
      "text/plain": [
       "<ValueView mu_vbf=1.0 mu_ggf=1.1241512447366997>"
      ]
     },
     "execution_count": 55,
     "metadata": {},
     "output_type": "execute_result"
    }
   ],
   "source": [
    "m.values"
   ]
  },
  {
   "cell_type": "code",
   "execution_count": 56,
   "metadata": {},
   "outputs": [
    {
     "data": {
      "text/plain": [
       "<ErrorView mu_vbf=0.01 mu_ggf=0.4804648961483018>"
      ]
     },
     "execution_count": 56,
     "metadata": {},
     "output_type": "execute_result"
    }
   ],
   "source": [
    "m.errors"
   ]
  },
  {
   "cell_type": "code",
   "execution_count": 46,
   "metadata": {},
   "outputs": [
    {
     "data": {
      "text/plain": [
       "(array([0.16322135, 0.18263407, 0.2020468 , 0.22145952, 0.24087225,\n",
       "        0.26028497, 0.2796977 , 0.29911042, 0.31852315, 0.33793587,\n",
       "        0.3573486 , 0.37676132, 0.39617405, 0.41558678, 0.4349995 ,\n",
       "        0.45441223, 0.47382495, 0.49323768, 0.5126504 , 0.53206313,\n",
       "        0.55147585, 0.57088858, 0.5903013 , 0.60971403, 0.62912675,\n",
       "        0.64853948, 0.6679522 , 0.68736493, 0.70677765, 0.72619038,\n",
       "        0.7456031 , 0.76501583, 0.78442855, 0.80384128, 0.823254  ,\n",
       "        0.84266673, 0.86207945, 0.88149218, 0.90090491, 0.92031763,\n",
       "        0.93973036, 0.95914308, 0.97855581, 0.99796853, 1.01738126,\n",
       "        1.03679398, 1.05620671, 1.07561943, 1.09503216, 1.11444488,\n",
       "        1.13385761, 1.15327033, 1.17268306, 1.19209578, 1.21150851,\n",
       "        1.23092123, 1.25033396, 1.26974668, 1.28915941, 1.30857213,\n",
       "        1.32798486, 1.34739758, 1.36681031, 1.38622303, 1.40563576,\n",
       "        1.42504849, 1.44446121, 1.46387394, 1.48328666, 1.50269939,\n",
       "        1.52211211, 1.54152484, 1.56093756, 1.58035029, 1.59976301,\n",
       "        1.61917574, 1.63858846, 1.65800119, 1.67741391, 1.69682664,\n",
       "        1.71623936, 1.73565209, 1.75506481, 1.77447754, 1.79389026,\n",
       "        1.81330299, 1.83271571, 1.85212844, 1.87154116, 1.89095389,\n",
       "        1.91036662, 1.92977934, 1.94919207, 1.96860479, 1.98801752,\n",
       "        2.00743024, 2.02684297, 2.04625569, 2.06566842, 2.08508114]),\n",
       " array([2.49294627, 2.47393218, 2.45531385, 2.43706432, 2.41915016,\n",
       "        2.40153034, 2.38415505, 2.36696479, 2.34988973, 2.33284952,\n",
       "        2.31575356, 2.29850207, 2.28098775, 2.26309828, 2.24471951,\n",
       "        2.22573943, 2.2060525 , 2.18556446, 2.16419706, 2.14189263,\n",
       "        2.11861802, 2.09436771, 2.06916579, 2.04306679, 2.01615502,\n",
       "        1.98854279, 1.96036739, 1.93178719, 1.9029771 , 1.87412362,\n",
       "        1.84541988, 1.8170608 , 1.78923867, 1.76213919, 1.73593823,\n",
       "        1.71079917, 1.68687086, 1.66428626, 1.64316156, 1.62359581,\n",
       "        1.60567087, 1.58945178, 1.57498724, 1.56231037, 1.5514395 ,\n",
       "        1.54237915, 1.53512091, 1.52964445, 1.52591848, 1.52390171,\n",
       "        1.52354375, 1.52478602, 1.52756263, 1.53180124, 1.53742381,\n",
       "        1.5443475 , 1.55248538, 1.56174723, 1.57204031, 1.58327011,\n",
       "        1.59534109, 1.60815742, 1.62162377, 1.63564592, 1.65013159,\n",
       "        1.66499099, 1.68013759, 1.69548863, 1.71096574, 1.7264954 ,\n",
       "        1.74200941, 1.75744522, 1.77274627, 1.78786213, 1.80274866,\n",
       "        1.81736802, 1.83168862, 1.84568502, 1.85933766, 1.87263264,\n",
       "        1.88556136, 1.89812012, 1.91030975, 1.92213513, 1.93360473,\n",
       "        1.94473012, 1.95552558, 1.96600754, 1.97619425, 1.98610529,\n",
       "        1.99576124, 2.0051833 , 2.01439302, 2.02341197, 2.03226154,\n",
       "        2.04096272, 2.04953594, 2.05800091, 2.06637651, 2.07468074]))"
      ]
     },
     "execution_count": 46,
     "metadata": {},
     "output_type": "execute_result"
    },
    {
     "data": {
      "image/png": "[encoded data removed]",
      "text/plain": [
       "<Figure size 432x288 with 1 Axes>"
      ]
     },
     "metadata": {
      "needs_background": "light"
     },
     "output_type": "display_data"
    }
   ],
   "source": [
    "m.draw_profile(\"mu_ggf\")"
   ]
  },
  {
   "cell_type": "code",
   "execution_count": 57,
   "metadata": {},
   "outputs": [
    {
     "data": {
      "text/html": [
       "<table>\n",
       "    <tr>\n",
       "        <td colspan=\"2\" style=\"text-align:left\" title=\"Minimum value of function\"> FCN = 1.529 </td>\n",
       "        <td colspan=\"3\" style=\"text-align:center\" title=\"No. of function evaluations in last call and total number\"> Nfcn = 19 </td>\n",
       "    </tr>\n",
       "    <tr>\n",
       "        <td colspan=\"2\" style=\"text-align:left\" title=\"Estimated distance to minimum and goal\"> EDM = 4.27e-05 (Goal: 0.1) </td>\n",
       "        <td colspan=\"3\" style=\"text-align:center\" title=\"No. of gradient evaluations in last call and total number\">  </td>\n",
       "    </tr>\n",
       "    <tr>\n",
       "        <td style=\"text-align:center;background-color:#92CCA6;color:black\"> Valid Minimum </td>\n",
       "        <td style=\"text-align:center;background-color:#92CCA6;color:black\"> Valid Parameters </td>\n",
       "        <td colspan=\"3\" style=\"text-align:center;background-color:#92CCA6;color:black\"> No Parameters at limit </td>\n",
       "    </tr>\n",
       "    <tr>\n",
       "        <td colspan=\"2\" style=\"text-align:center;background-color:#92CCA6;color:black\"> Below EDM threshold (goal x 10) </td>\n",
       "        <td colspan=\"3\" style=\"text-align:center;background-color:#92CCA6;color:black\"> Below call limit </td>\n",
       "    </tr>\n",
       "    <tr>\n",
       "        <td style=\"text-align:center;background-color:#92CCA6;color:black\"> Covariance </td>\n",
       "        <td style=\"text-align:center;background-color:#92CCA6;color:black\"> Hesse ok </td>\n",
       "        <td style=\"text-align:center;background-color:#92CCA6;color:black\" title=\"Is covariance matrix accurate?\"> Accurate </td>\n",
       "        <td style=\"text-align:center;background-color:#92CCA6;color:black\" title=\"Is covariance matrix positive definite?\"> Pos. def. </td>\n",
       "        <td style=\"text-align:center;background-color:#92CCA6;color:black\" title=\"Was positive definiteness enforced by Minuit?\"> Not forced </td>\n",
       "    </tr>\n",
       "</table><table>\n",
       "    <tr>\n",
       "        <td></td>\n",
       "        <th title=\"Variable name\"> Name </th>\n",
       "        <th title=\"Value of parameter\"> Value </th>\n",
       "        <th title=\"Hesse error\"> Hesse Error </th>\n",
       "        <th title=\"Minos lower error\"> Minos Error- </th>\n",
       "        <th title=\"Minos upper error\"> Minos Error+ </th>\n",
       "        <th title=\"Lower limit of the parameter\"> Limit- </th>\n",
       "        <th title=\"Upper limit of the parameter\"> Limit+ </th>\n",
       "        <th title=\"Is the parameter fixed in the fit\"> Fixed </th>\n",
       "    </tr>\n",
       "    <tr>\n",
       "        <th> 0 </th>\n",
       "        <td> mu_vbf </td>\n",
       "        <td> 1.2 </td>\n",
       "        <td> 0.8 </td>\n",
       "        <td>  </td>\n",
       "        <td>  </td>\n",
       "        <td> -10 </td>\n",
       "        <td> 10 </td>\n",
       "        <td>  </td>\n",
       "    </tr>\n",
       "    <tr>\n",
       "        <th> 1 </th>\n",
       "        <td> mu_ggf </td>\n",
       "        <td> 1.00 </td>\n",
       "        <td> 0.01 </td>\n",
       "        <td>  </td>\n",
       "        <td>  </td>\n",
       "        <td> -10 </td>\n",
       "        <td> 10 </td>\n",
       "        <td> yes </td>\n",
       "    </tr>\n",
       "</table><table>\n",
       "    <tr>\n",
       "        <td></td>\n",
       "        <th> mu_vbf </th>\n",
       "        <th> mu_ggf </th>\n",
       "    </tr>\n",
       "    <tr>\n",
       "        <th> mu_vbf </th>\n",
       "        <td> 0.704 </td>\n",
       "        <td style=\"background-color:rgb(250,250,250);color:black\"> 0.000 </td>\n",
       "    </tr>\n",
       "    <tr>\n",
       "        <th> mu_ggf </th>\n",
       "        <td style=\"background-color:rgb(250,250,250);color:black\"> 0.000 </td>\n",
       "        <td> 0.000 </td>\n",
       "    </tr>\n",
       "</table>"
      ],
      "text/plain": [
       "┌──────────────────────────────────┬──────────────────────────────────────┐\n",
       "│ FCN = 1.529                      │              Nfcn = 19               │\n",
       "│ EDM = 4.27e-05 (Goal: 0.1)       │                                      │\n",
       "├───────────────┬──────────────────┼──────────────────────────────────────┤\n",
       "│ Valid Minimum │ Valid Parameters │        No Parameters at limit        │\n",
       "├───────────────┴──────────────────┼──────────────────────────────────────┤\n",
       "│ Below EDM threshold (goal x 10)  │           Below call limit           │\n",
       "├───────────────┬──────────────────┼───────────┬─────────────┬────────────┤\n",
       "│  Covariance   │     Hesse ok     │ Accurate  │  Pos. def.  │ Not forced │\n",
       "└───────────────┴──────────────────┴───────────┴─────────────┴────────────┘\n",
       "┌───┬────────┬───────────┬───────────┬────────────┬────────────┬─────────┬─────────┬───────┐\n",
       "│   │ Name   │   Value   │ Hesse Err │ Minos Err- │ Minos Err+ │ Limit-  │ Limit+  │ Fixed │\n",
       "├───┼────────┼───────────┼───────────┼────────────┼────────────┼─────────┼─────────┼───────┤\n",
       "│ 0 │ mu_vbf │    1.2    │    0.8    │            │            │   -10   │   10    │       │\n",
       "│ 1 │ mu_ggf │   1.00    │   0.01    │            │            │   -10   │   10    │  yes  │\n",
       "└───┴────────┴───────────┴───────────┴────────────┴────────────┴─────────┴─────────┴───────┘\n",
       "┌────────┬───────────────┐\n",
       "│        │ mu_vbf mu_ggf │\n",
       "├────────┼───────────────┤\n",
       "│ mu_vbf │  0.704  0.000 │\n",
       "│ mu_ggf │  0.000  0.000 │\n",
       "└────────┴───────────────┘"
      ]
     },
     "execution_count": 57,
     "metadata": {},
     "output_type": "execute_result"
    }
   ],
   "source": [
    "m = Minuit(fcn, mu_vbf = 1.0, mu_ggf = 1.0)\n",
    "m.limits = [(-10.0, 10.0), (-10.0, 10.0)]\n",
    "m.fixed[\"mu_ggf\"] = True\n",
    "m.errordef = Minuit.LIKELIHOOD\n",
    "m.migrad()\n",
    "m.hesse()"
   ]
  },
  {
   "cell_type": "code",
   "execution_count": 58,
   "metadata": {},
   "outputs": [
    {
     "data": {
      "text/plain": [
       "<ValueView mu_vbf=1.1980201261418273 mu_ggf=1.0>"
      ]
     },
     "execution_count": 58,
     "metadata": {},
     "output_type": "execute_result"
    }
   ],
   "source": [
    "m.values"
   ]
  },
  {
   "cell_type": "code",
   "execution_count": 59,
   "metadata": {},
   "outputs": [
    {
     "data": {
      "text/plain": [
       "<ErrorView mu_vbf=0.8378132086592744 mu_ggf=0.01>"
      ]
     },
     "execution_count": 59,
     "metadata": {},
     "output_type": "execute_result"
    }
   ],
   "source": [
    "m.errors"
   ]
  },
  {
   "cell_type": "code",
   "execution_count": 48,
   "metadata": {},
   "outputs": [
    {
     "data": {
      "text/plain": [
       "(array([-0.47760629, -0.44375526, -0.40990422, -0.37605318, -0.34220214,\n",
       "        -0.3083511 , -0.27450006, -0.24064902, -0.20679798, -0.17294695,\n",
       "        -0.13909591, -0.10524487, -0.07139383, -0.03754279, -0.00369175,\n",
       "         0.03015929,  0.06401033,  0.09786137,  0.1317124 ,  0.16556344,\n",
       "         0.19941448,  0.23326552,  0.26711656,  0.3009676 ,  0.33481864,\n",
       "         0.36866968,  0.40252071,  0.43637175,  0.47022279,  0.50407383,\n",
       "         0.53792487,  0.57177591,  0.60562695,  0.63947799,  0.67332902,\n",
       "         0.70718006,  0.7410311 ,  0.77488214,  0.80873318,  0.84258422,\n",
       "         0.87643526,  0.9102863 ,  0.94413734,  0.97798837,  1.01183941,\n",
       "         1.04569045,  1.07954149,  1.11339253,  1.14724357,  1.18109461,\n",
       "         1.21494565,  1.24879668,  1.28264772,  1.31649876,  1.3503498 ,\n",
       "         1.38420084,  1.41805188,  1.45190292,  1.48575396,  1.51960499,\n",
       "         1.55345603,  1.58730707,  1.62115811,  1.65500915,  1.68886019,\n",
       "         1.72271123,  1.75656227,  1.79041331,  1.82426434,  1.85811538,\n",
       "         1.89196642,  1.92581746,  1.9596685 ,  1.99351954,  2.02737058,\n",
       "         2.06122162,  2.09507265,  2.12892369,  2.16277473,  2.19662577,\n",
       "         2.23047681,  2.26432785,  2.29817889,  2.33202993,  2.36588096,\n",
       "         2.399732  ,  2.43358304,  2.46743408,  2.50128512,  2.53513616,\n",
       "         2.5689872 ,  2.60283824,  2.63668928,  2.67054031,  2.70439135,\n",
       "         2.73824239,  2.77209343,  2.80594447,  2.83979551,  2.87364655]),\n",
       " array([2.72034593, 2.7157679 , 2.71103468, 2.70601202, 2.70051891,\n",
       "        2.69432618, 2.68715935, 2.6787061 , 2.66862839, 2.65657872,\n",
       "        2.64221946, 2.62524398, 2.60539761, 2.58249638, 2.55644166,\n",
       "        2.5272291 , 2.49495094, 2.45979171, 2.42201788, 2.38196305,\n",
       "        2.34001042, 2.29657428, 2.25208229, 2.2069597 , 2.16161633,\n",
       "        2.11643663, 2.07177279, 2.02794052, 1.98521723, 1.94384198,\n",
       "        1.90401678, 1.86590878, 1.82965311, 1.7953559 , 1.76309746,\n",
       "        1.73293535, 1.70490729, 1.67903387, 1.65532099, 1.63376205,\n",
       "        1.61433986, 1.59702835, 1.581794  , 1.56859712, 1.55739291,\n",
       "        1.5481324 , 1.54076318, 1.5352301 , 1.53147575, 1.52944101,\n",
       "        1.52906533, 1.5302871 , 1.5330439 , 1.5372727 , 1.54291005,\n",
       "        1.5498922 , 1.55815523, 1.56763515, 1.57826798, 1.58998979,\n",
       "        1.60273681, 1.61644543, 1.63105229, 1.64649433, 1.66270879,\n",
       "        1.67963334, 1.69720606, 1.71536557, 1.73405107, 1.7532024 ,\n",
       "        1.77276016, 1.79266577, 1.81286161, 1.83329107, 1.85389872,\n",
       "        1.8746304 , 1.89543335, 1.91625635, 1.93704984, 1.95776605,\n",
       "        1.97835916, 1.9987854 , 2.01900319, 2.03897324, 2.0586587 ,\n",
       "        2.07802519, 2.09704098, 2.11567697, 2.13390678, 2.15170682,\n",
       "        2.16905627, 2.18593708, 2.20233398, 2.21823443, 2.23362855,\n",
       "        2.24850907, 2.26287123, 2.27671268, 2.29003336, 2.30283536]))"
      ]
     },
     "execution_count": 48,
     "metadata": {},
     "output_type": "execute_result"
    },
    {
     "data": {
      "image/png": "[encoded data removed]",
      "text/plain": [
       "<Figure size 432x288 with 1 Axes>"
      ]
     },
     "metadata": {
      "needs_background": "light"
     },
     "output_type": "display_data"
    }
   ],
   "source": [
    "m.draw_profile(\"mu_vbf\")"
   ]
  }
 ],
 "metadata": {
  "kernelspec": {
   "display_name": "Python 3",
   "language": "python",
   "name": "python3"
  },
  "language_info": {
   "codemirror_mode": {
    "name": "ipython",
    "version": 3
   },
   "file_extension": ".py",
   "mimetype": "text/x-python",
   "name": "python",
   "nbconvert_exporter": "python",
   "pygments_lexer": "ipython3",
   "version": "3.8.3"
  }
 },
 "nbformat": 4,
 "nbformat_minor": 4
}
